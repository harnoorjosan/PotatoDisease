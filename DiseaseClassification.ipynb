{
 "cells": [
  {
   "cell_type": "code",
   "execution_count": 40,
   "id": "bedd211a",
   "metadata": {},
   "outputs": [],
   "source": [
    "import tensorflow as tf\n",
    "from tensorflow.keras import models, layers\n",
    "import matplotlib.pyplot as plt\n"
   ]
  },
  {
   "cell_type": "code",
   "execution_count": 41,
   "id": "51d5290c",
   "metadata": {},
   "outputs": [
    {
     "name": "stdout",
     "output_type": "stream",
     "text": [
      "Found 2152 files belonging to 3 classes.\n"
     ]
    }
   ],
   "source": [
    "BASE_DIR = \"PlantVillage\"\n",
    "IMG_SIZE = 256 # check image proprties\n",
    "BATCH_SIZE = 32 # standard convention \n",
    "EPOCH = 50 # at end of every epoch, we do validation\n",
    "dataset = tf.keras.preprocessing.image_dataset_from_directory(\n",
    "        directory=BASE_DIR, \n",
    "        shuffle=True, \n",
    "        image_size=(IMG_SIZE, IMG_SIZE), \n",
    "        batch_size=BATCH_SIZE\n",
    "    )\n"
   ]
  },
  {
   "cell_type": "code",
   "execution_count": 42,
   "id": "1f9ca215",
   "metadata": {},
   "outputs": [
    {
     "data": {
      "text/plain": [
       "['Potato___Early_blight', 'Potato___Late_blight', 'Potato___healthy']"
      ]
     },
     "execution_count": 42,
     "metadata": {},
     "output_type": "execute_result"
    }
   ],
   "source": [
    "class_names = dataset.class_names\n",
    "class_names"
   ]
  },
  {
   "cell_type": "code",
   "execution_count": 43,
   "id": "a8a96998",
   "metadata": {},
   "outputs": [
    {
     "data": {
      "text/plain": [
       "54"
      ]
     },
     "execution_count": 43,
     "metadata": {},
     "output_type": "execute_result"
    }
   ],
   "source": [
    "'''\n",
    "Total images = 2152\n",
    "Batch size = 32 \n",
    "Total batches = 2152/32 = 68 = length of dataset\n",
    "80% training data = 54 batches\n",
    "10% validation data = 6 batches\n",
    "10% testing data = 8 batches\n",
    "'''\n",
    "train_ds = dataset.take(54) #80% data is training\n",
    "len(train_ds)"
   ]
  },
  {
   "cell_type": "code",
   "execution_count": 44,
   "id": "cbb18ed4",
   "metadata": {},
   "outputs": [
    {
     "data": {
      "text/plain": [
       "6"
      ]
     },
     "execution_count": 44,
     "metadata": {},
     "output_type": "execute_result"
    }
   ],
   "source": [
    "non_train_ds = dataset.skip(54)\n",
    "val_ds = non_train_ds.take(6)\n",
    "len(val_ds)"
   ]
  },
  {
   "cell_type": "code",
   "execution_count": 45,
   "id": "ef62e283",
   "metadata": {},
   "outputs": [
    {
     "data": {
      "text/plain": [
       "8"
      ]
     },
     "execution_count": 45,
     "metadata": {},
     "output_type": "execute_result"
    }
   ],
   "source": [
    "test_ds = non_train_ds.skip(6)\n",
    "len(test_ds)"
   ]
  },
  {
   "cell_type": "code",
   "execution_count": 46,
   "id": "207e15ff",
   "metadata": {},
   "outputs": [],
   "source": [
    "def get_ds_partitions(ds, train_split=0.8, val_split=0.1, test_split=0.1, shuffle=True, shuffle_size=10000):\n",
    "    ds_size = len(ds)\n",
    "    \n",
    "    if shuffle:\n",
    "        ds = ds.shuffle(shuffle_size, seed=12)\n",
    "    \n",
    "    train_size = int(train_split*ds_size)\n",
    "    train_ds = ds.take(train_size)\n",
    "    \n",
    "    val_size = int(val_split*ds_size)\n",
    "    val_ds = ds.skip(train_size).take(val_size)\n",
    "    \n",
    "    test_ds = ds.skip(train_size).skip(val_size)\n",
    "    \n",
    "    return train_ds, val_ds, test_ds"
   ]
  },
  {
   "cell_type": "code",
   "execution_count": 47,
   "id": "a37c273e",
   "metadata": {},
   "outputs": [],
   "source": [
    "train_ds, val_ds, test_ds = get_ds_partitions(dataset)"
   ]
  },
  {
   "cell_type": "code",
   "execution_count": 48,
   "id": "170c9d8d",
   "metadata": {},
   "outputs": [],
   "source": [
    "'''\n",
    "prefetch = CPU starts reading batch 2 even before GPU is done training on batch1.\n",
    "cache = Not reading the same image again in epoch2 if it has already been read once in epoch1. \n",
    "'''\n",
    "train_ds = train_ds.cache().shuffle(1000).prefetch(buffer_size=tf.data.AUTOTUNE)\n",
    "val_ds = val_ds.cache().shuffle(1000).prefetch(buffer_size=tf.data.AUTOTUNE)\n",
    "test = test_ds.cache().shuffle(1000).prefetch(buffer_size=tf.data.AUTOTUNE)"
   ]
  },
  {
   "cell_type": "code",
   "execution_count": 50,
   "id": "45e3b785",
   "metadata": {},
   "outputs": [],
   "source": [
    "'''\n",
    "Preprocessing\n",
    "1. Rescale: The image pixel varies from a number 0 to 255. We need to divide each pixel by 255, such that they are between 0 and 1 only.\n",
    "2. Resize: Similarly, we need to ensure all images are 256x256. Therefore, rescale the dataset. Although all our images are 256x256 but we still need to ensure.\n",
    "3. Data augmentation: We create more data by rotating, flipping, changing contrast of existing data so our modls performs better.\n",
    "'''\n",
    "resize_rescale = tf.keras.Sequential([\n",
    "    layers.Resizing(IMG_SIZE, IMG_SIZE),\n",
    "    layers.Rescaling(1.0/255)\n",
    "])\n",
    "data_augmentation = tf.keras.Sequential([\n",
    "    layers.RandomFlip(\"horizontal_and_vertical\"),\n",
    "    layers.RandomRotation(0.2)\n",
    "])"
   ]
  },
  {
   "cell_type": "code",
   "execution_count": 49,
   "id": "e1ae96f1",
   "metadata": {},
   "outputs": [],
   "source": []
  },
  {
   "cell_type": "code",
   "execution_count": null,
   "id": "c4b14195",
   "metadata": {},
   "outputs": [],
   "source": []
  }
 ],
 "metadata": {
  "kernelspec": {
   "display_name": "Python 3 (ipykernel)",
   "language": "python",
   "name": "python3"
  },
  "language_info": {
   "codemirror_mode": {
    "name": "ipython",
    "version": 3
   },
   "file_extension": ".py",
   "mimetype": "text/x-python",
   "name": "python",
   "nbconvert_exporter": "python",
   "pygments_lexer": "ipython3",
   "version": "3.11.4"
  }
 },
 "nbformat": 4,
 "nbformat_minor": 5
}
